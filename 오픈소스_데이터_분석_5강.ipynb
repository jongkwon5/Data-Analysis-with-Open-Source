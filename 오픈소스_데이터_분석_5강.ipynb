{
  "nbformat": 4,
  "nbformat_minor": 0,
  "metadata": {
    "colab": {
      "provenance": [],
      "include_colab_link": true
    },
    "kernelspec": {
      "name": "python3",
      "display_name": "Python 3"
    },
    "language_info": {
      "name": "python"
    }
  },
  "cells": [
    {
      "cell_type": "markdown",
      "metadata": {
        "id": "view-in-github",
        "colab_type": "text"
      },
      "source": [
        "<a href=\"https://colab.research.google.com/github/jongkwon5/Data-Analysis-with-Open-Source/blob/main/%EC%98%A4%ED%94%88%EC%86%8C%EC%8A%A4_%EB%8D%B0%EC%9D%B4%ED%84%B0_%EB%B6%84%EC%84%9D_5%EA%B0%95.ipynb\" target=\"_parent\"><img src=\"https://colab.research.google.com/assets/colab-badge.svg\" alt=\"Open In Colab\"/></a>"
      ]
    },
    {
      "cell_type": "markdown",
      "source": [
        "# 오픈소스 기반 데이터 분석 5강 - 데이터 저장"
      ],
      "metadata": {
        "id": "O4kC4JMknVnK"
      }
    },
    {
      "cell_type": "markdown",
      "source": [
        "## 5-1 CSV 형식 저장"
      ],
      "metadata": {
        "id": "8DfV0cZLqj_s"
      }
    },
    {
      "cell_type": "code",
      "source": [
        "import pandas as pd\n",
        "\n",
        "data = {\n",
        "    'student_id': [101, 102, 103, 104, 105],\n",
        "    'database_score': [85, 76, 92, 63, 88],\n",
        "    'cloudcomputing_score': [78, 82, 95, 70, 84],\n",
        "    'python_score': [92, 78, 85, 75, 91],\n",
        "    'watch_rate': [0.95, 0.87, 0.99, 0.80, 0.93]\n",
        "}\n",
        "## DataFrame 생성\n",
        "df = pd.DataFrame(data)\n",
        "\n",
        "## CSV 형식 저장\n",
        "df.to_csv('student_analysis.csv', encoding = 'utf-8', index=False)"
      ],
      "metadata": {
        "id": "DztLRI9gW2lk"
      },
      "execution_count": 2,
      "outputs": []
    },
    {
      "cell_type": "markdown",
      "source": [
        "## 5-2 JSON 형식 저장"
      ],
      "metadata": {
        "id": "CSABzaf3q8XU"
      }
    },
    {
      "cell_type": "code",
      "source": [
        "### 라이브러리 임포트\n",
        "import json\n",
        "import pandas as pd\n",
        "\n",
        "data = [\n",
        "    {\n",
        "    \"이름\": \"ㄱㅁㄱㅁㄱ\",\n",
        "    \"나이\": 25,\n",
        "    \"거주지\": \"서울\",\n",
        "    \"관심사\": [\"프로그래밍\", \"데이터 분석\", \"여행\"],\n",
        "    }\n",
        " ]\n",
        "\n",
        "## json.dump를 이용한 저장\n",
        "with open('output.json', mode='w', encoding='utf-8') as f:\n",
        "    json.dump(data, f, indent = 4, ensure_ascii=False)\n",
        "\n",
        "## DataFrame을 이용한 저장\n",
        "df = pd.DataFrame([data])\n",
        "df.to_json('output_df.json', orient='columns', indent=4, force_ascii=False)"
      ],
      "metadata": {
        "id": "7bAgRpizW7Vj"
      },
      "execution_count": 11,
      "outputs": []
    },
    {
      "cell_type": "code",
      "source": [],
      "metadata": {
        "id": "tzggmPBtg7dU"
      },
      "execution_count": null,
      "outputs": []
    },
    {
      "cell_type": "markdown",
      "source": [
        "## 5-3 Pandas Dataframe 데이터 추출"
      ],
      "metadata": {
        "id": "NMlsQDHtrA_x"
      }
    },
    {
      "cell_type": "code",
      "source": [
        "import pandas as pd\n",
        "\n",
        "data = {\n",
        "    \"이름\": [\"김철수\", \"이영희\", \"박민수\", \"최지훈\", \"정소희\"],\n",
        "    \"학년\": [1, 2, 3, 4, 2],\n",
        "    \"학점\": [4.2, 3.8, 4.5, 3.9, 3.5],\n",
        "    \"학과\": [\"컴퓨터학\", \"경영학\", \"농학\", \"교육학\", \"영어영문학\"],\n",
        "    \"동아리\": [\"프로그래밍\", \"독서토론\", \"로봇공학\", \"봉사활동\", \"음악감상\"]\n",
        "}\n",
        "df = pd.DataFrame(data)\n",
        "df\n",
        "## DataFrame 인덱스 출력\n",
        "print(df.index)\n",
        "## DataFrame 컬럼 출력\n",
        "print(df.columns)\n",
        "## DataFrame 행 출력\n",
        "print(df.values.tolist())\n",
        "print(df.values)\n",
        "## DataFrame 값 출력\n",
        "print(df.values.flatten())"
      ],
      "metadata": {
        "id": "dk3xneVAW9_g",
        "outputId": "08c14464-896b-4e3b-f860-3ec42145d0d9",
        "colab": {
          "base_uri": "https://localhost:8080/"
        }
      },
      "execution_count": 23,
      "outputs": [
        {
          "output_type": "stream",
          "name": "stdout",
          "text": [
            "RangeIndex(start=0, stop=5, step=1)\n",
            "Index(['이름', '학년', '학점', '학과', '동아리'], dtype='object')\n",
            "[['김철수', 1, 4.2, '컴퓨터학', '프로그래밍'], ['이영희', 2, 3.8, '경영학', '독서토론'], ['박민수', 3, 4.5, '농학', '로봇공학'], ['최지훈', 4, 3.9, '교육학', '봉사활동'], ['정소희', 2, 3.5, '영어영문학', '음악감상']]\n",
            "[['김철수' 1 4.2 '컴퓨터학' '프로그래밍']\n",
            " ['이영희' 2 3.8 '경영학' '독서토론']\n",
            " ['박민수' 3 4.5 '농학' '로봇공학']\n",
            " ['최지훈' 4 3.9 '교육학' '봉사활동']\n",
            " ['정소희' 2 3.5 '영어영문학' '음악감상']]\n",
            "['김철수' 1 4.2 '컴퓨터학' '프로그래밍' '이영희' 2 3.8 '경영학' '독서토론' '박민수' 3 4.5 '농학'\n",
            " '로봇공학' '최지훈' 4 3.9 '교육학' '봉사활동' '정소희' 2 3.5 '영어영문학' '음악감상']\n"
          ]
        }
      ]
    },
    {
      "cell_type": "code",
      "source": [],
      "metadata": {
        "id": "WmpU02gNjpLs"
      },
      "execution_count": null,
      "outputs": []
    },
    {
      "cell_type": "markdown",
      "source": [
        "## 5-4 DataFrame 생성 방법"
      ],
      "metadata": {
        "id": "ILJd1GLoseqm"
      }
    },
    {
      "cell_type": "code",
      "source": [
        "import pandas as pd\n",
        "import json\n",
        "\n",
        "data = {\n",
        "    \"이름\": [\"김철수\", \"이영희\", \"박민수\", \"최지훈\", \"정소희\"],\n",
        "    \"학년\": [1, 2, 3, 4, 2],\n",
        "    \"학점\": [4.2, 3.8, 4.5, 3.9, 3.5],\n",
        "    \"학과\": [\"컴퓨터공학\", \"경영학\", \"전자공학\", \"의학\", \"심리학\"],\n",
        "    \"동아리\": [\"프로그래밍\", \"독서토론\", \"로봇공학\", \"봉사활동\", \"음악감상\"]\n",
        "}\n",
        "\n",
        "## 딕셔너리, csv, json으로 부터 DataFrame 생성\n",
        "df1 = pd.DataFrame.from_dict(data)\n",
        "df2 = pd.read_csv('students.csv')\n",
        "df3 = pd.read_json('students.json')\n",
        "\n",
        "## 세가지 방법 결과 비교\n",
        "print(df1.shape)\n",
        "print(df2.shape)\n",
        "print(df3.shape)"
      ],
      "metadata": {
        "id": "ISnPLEgNXAmi",
        "outputId": "15f59d99-834b-4d8f-aaa7-f7e6673a4758",
        "colab": {
          "base_uri": "https://localhost:8080/"
        }
      },
      "execution_count": 25,
      "outputs": [
        {
          "output_type": "stream",
          "name": "stdout",
          "text": [
            "(5, 5)\n",
            "(5, 5)\n",
            "(5, 5)\n"
          ]
        }
      ]
    },
    {
      "cell_type": "markdown",
      "source": [
        "## 5-5 DataFrame 저장 방법"
      ],
      "metadata": {
        "id": "z1N6lAnwsdyU"
      }
    },
    {
      "cell_type": "code",
      "source": [
        "import pandas as pd\n",
        "\n",
        "data = {\n",
        "    \"이름\": [\"김철수\", \"이영희\", \"박민수\", \"최지훈\", \"정소희\"],\n",
        "    \"학년\": [1, 2, 3, 4, 2],\n",
        "    \"학점\": [4.2, 3.8, 4.5, 3.9, 3.5],\n",
        "    \"학과\": [\"컴퓨터공학\", \"경영학\", \"전자공학\", \"의학\", \"심리학\"],\n",
        "    \"동아리\": [\"프로그래밍\", \"독서토론\", \"로봇공학\", \"봉사활동\", \"음악감상\"]\n",
        "}\n",
        "\n",
        "## Dataframe 생성\n",
        "df1 = pd.DataFrame(data)\n",
        "## CSV, JSON 형식으로 저장\n",
        "df1.to_csv('students_scores.csv')\n",
        "df1.to_json('students_scores.json')\n",
        "\n",
        "## HTML 형식으로 저장\n",
        "html_table = df.to_html()\n",
        "with open('students_scores.html', 'w') as f:\n",
        "    f.write(html_table)"
      ],
      "metadata": {
        "id": "_dqoWCRoXDrJ"
      },
      "execution_count": 27,
      "outputs": []
    },
    {
      "cell_type": "markdown",
      "source": [
        "## 5-6 실습 시나리오"
      ],
      "metadata": {
        "id": "ifBFAyulsdJb"
      }
    },
    {
      "cell_type": "markdown",
      "source": [
        "## 데이터 수집"
      ],
      "metadata": {
        "id": "muFj6okKyXy6"
      }
    },
    {
      "cell_type": "code",
      "source": [
        "import requests\n",
        "\n",
        "url = \"http://apis.data.go.kr/B552584/ArpltnInforInqireSvc/getCtprvnRltmMesureDnsty\"\n",
        "api_key = '2a4122df5fa56202fe856e6624282bd67efc5b549b10325978dc476ce29bb8f3'\n",
        "\n",
        "params = {\n",
        "    'serviceKey': api_key,\n",
        "    'returnType': 'json',\n",
        "    'numOfRows': '100',\n",
        "    'pageNo': '1',\n",
        "    'sidoName': '서울',\n",
        "    'ver': '1.0'\n",
        "}\n",
        "\n",
        "## 데이터 수집\n",
        "response = requests.get(url, params=params)\n",
        "\n",
        "## 호출 성공/실패 출력\n",
        "print(response.json())\n"
      ],
      "metadata": {
        "id": "7yCozmQeXJcO",
        "outputId": "0d95070b-cb12-4c85-8d43-4727a314321d",
        "colab": {
          "base_uri": "https://localhost:8080/"
        }
      },
      "execution_count": 28,
      "outputs": [
        {
          "output_type": "stream",
          "name": "stdout",
          "text": [
            "{'response': {'body': {'totalCount': 40, 'items': [{'so2Grade': '1', 'coFlag': None, 'khaiValue': '35', 'so2Value': '0.002', 'coValue': '0.3', 'pm25Flag': None, 'pm10Flag': None, 'o3Grade': '1', 'pm10Value': '15', 'khaiGrade': '1', 'pm25Value': '8', 'sidoName': '서울', 'no2Flag': None, 'no2Grade': '1', 'o3Flag': None, 'pm25Grade': '1', 'so2Flag': None, 'dataTime': '2025-09-19 15:00', 'coGrade': '1', 'no2Value': '0.019', 'stationName': '중구', 'pm10Grade': '1', 'o3Value': '0.021'}, {'so2Grade': '1', 'coFlag': None, 'khaiValue': '31', 'so2Value': '0.003', 'coValue': '0.5', 'pm25Flag': None, 'pm10Flag': None, 'o3Grade': '1', 'pm10Value': '16', 'khaiGrade': '1', 'pm25Value': '4', 'sidoName': '서울', 'no2Flag': None, 'no2Grade': '1', 'o3Flag': None, 'pm25Grade': '1', 'so2Flag': None, 'dataTime': '2025-09-19 15:00', 'coGrade': '1', 'no2Value': '0.019', 'stationName': '한강대로', 'pm10Grade': '1', 'o3Value': '0.016'}, {'so2Grade': '1', 'coFlag': None, 'khaiValue': '40', 'so2Value': '0.002', 'coValue': '0.4', 'pm25Flag': None, 'pm10Flag': None, 'o3Grade': '1', 'pm10Value': '13', 'khaiGrade': '1', 'pm25Value': '8', 'sidoName': '서울', 'no2Flag': None, 'no2Grade': '1', 'o3Flag': None, 'pm25Grade': '1', 'so2Flag': None, 'dataTime': '2025-09-19 15:00', 'coGrade': '1', 'no2Value': '0.017', 'stationName': '종로구', 'pm10Grade': '1', 'o3Value': '0.024'}, {'so2Grade': '1', 'coFlag': None, 'khaiValue': '32', 'so2Value': '0.003', 'coValue': '0.6', 'pm25Flag': None, 'pm10Flag': None, 'o3Grade': '1', 'pm10Value': '17', 'khaiGrade': '1', 'pm25Value': '6', 'sidoName': '서울', 'no2Flag': None, 'no2Grade': '1', 'o3Flag': None, 'pm25Grade': '1', 'so2Flag': None, 'dataTime': '2025-09-19 15:00', 'coGrade': '1', 'no2Value': '0.019', 'stationName': '청계천로', 'pm10Grade': '1', 'o3Value': '0.018'}, {'so2Grade': '1', 'coFlag': None, 'khaiValue': '-', 'so2Value': '0.003', 'coValue': '0.6', 'pm25Flag': None, 'pm10Flag': None, 'o3Grade': '1', 'pm10Value': '21', 'khaiGrade': None, 'pm25Value': '3', 'sidoName': '서울', 'no2Flag': None, 'no2Grade': '1', 'o3Flag': None, 'pm25Grade': None, 'so2Flag': None, 'dataTime': '2025-09-19 15:00', 'coGrade': '1', 'no2Value': '0.026', 'stationName': '종로', 'pm10Grade': '1', 'o3Value': '0.013'}, {'so2Grade': '1', 'coFlag': None, 'khaiValue': '35', 'so2Value': '0.002', 'coValue': '0.3', 'pm25Flag': None, 'pm10Flag': None, 'o3Grade': '1', 'pm10Value': '14', 'khaiGrade': '1', 'pm25Value': '3', 'sidoName': '서울', 'no2Flag': None, 'no2Grade': '1', 'o3Flag': None, 'pm25Grade': '1', 'so2Flag': None, 'dataTime': '2025-09-19 15:00', 'coGrade': '1', 'no2Value': '0.013', 'stationName': '용산구', 'pm10Grade': '1', 'o3Value': '0.021'}, {'so2Grade': '1', 'coFlag': None, 'khaiValue': '43', 'so2Value': '0.003', 'coValue': '0.4', 'pm25Flag': None, 'pm10Flag': None, 'o3Grade': '1', 'pm10Value': '13', 'khaiGrade': '1', 'pm25Value': '7', 'sidoName': '서울', 'no2Flag': None, 'no2Grade': '1', 'o3Flag': None, 'pm25Grade': '1', 'so2Flag': None, 'dataTime': '2025-09-19 15:00', 'coGrade': '1', 'no2Value': '0.012', 'stationName': '광진구', 'pm10Grade': '1', 'o3Value': '0.026'}, {'so2Grade': '1', 'coFlag': None, 'khaiValue': '39', 'so2Value': '0.003', 'coValue': '0.3', 'pm25Flag': None, 'pm10Flag': None, 'o3Grade': '1', 'pm10Value': '20', 'khaiGrade': '1', 'pm25Value': '9', 'sidoName': '서울', 'no2Flag': None, 'no2Grade': '1', 'o3Flag': None, 'pm25Grade': '1', 'so2Flag': None, 'dataTime': '2025-09-19 15:00', 'coGrade': '1', 'no2Value': '0.012', 'stationName': '성동구', 'pm10Grade': '1', 'o3Value': '0.023'}, {'so2Grade': '1', 'coFlag': None, 'khaiValue': '29', 'so2Value': '0.003', 'coValue': '0.3', 'pm25Flag': None, 'pm10Flag': None, 'o3Grade': '1', 'pm10Value': '11', 'khaiGrade': '1', 'pm25Value': '3', 'sidoName': '서울', 'no2Flag': None, 'no2Grade': '1', 'o3Flag': None, 'pm25Grade': '1', 'so2Flag': None, 'dataTime': '2025-09-19 15:00', 'coGrade': '1', 'no2Value': '0.014', 'stationName': '강변북로', 'pm10Grade': '1', 'o3Value': '0.018'}, {'so2Grade': '1', 'coFlag': None, 'khaiValue': '38', 'so2Value': '0.002', 'coValue': '0.3', 'pm25Flag': None, 'pm10Flag': None, 'o3Grade': '1', 'pm10Value': '12', 'khaiGrade': '1', 'pm25Value': '5', 'sidoName': '서울', 'no2Flag': None, 'no2Grade': '1', 'o3Flag': None, 'pm25Grade': '1', 'so2Flag': None, 'dataTime': '2025-09-19 15:00', 'coGrade': '1', 'no2Value': '0.010', 'stationName': '중랑구', 'pm10Grade': '1', 'o3Value': '0.023'}, {'so2Grade': '1', 'coFlag': None, 'khaiValue': '37', 'so2Value': '0.002', 'coValue': '0.3', 'pm25Flag': None, 'pm10Flag': None, 'o3Grade': '1', 'pm10Value': '16', 'khaiGrade': '1', 'pm25Value': '7', 'sidoName': '서울', 'no2Flag': None, 'no2Grade': '1', 'o3Flag': None, 'pm25Grade': '1', 'so2Flag': None, 'dataTime': '2025-09-19 15:00', 'coGrade': '1', 'no2Value': '0.015', 'stationName': '동대문구', 'pm10Grade': '1', 'o3Value': '0.022'}, {'so2Grade': '1', 'coFlag': None, 'khaiValue': '34', 'so2Value': '0.002', 'coValue': '0.4', 'pm25Flag': None, 'pm10Flag': None, 'o3Grade': '1', 'pm10Value': '14', 'khaiGrade': '1', 'pm25Value': '6', 'sidoName': '서울', 'no2Flag': None, 'no2Grade': '1', 'o3Flag': None, 'pm25Grade': '1', 'so2Flag': None, 'dataTime': '2025-09-19 15:00', 'coGrade': '1', 'no2Value': '0.016', 'stationName': '홍릉로', 'pm10Grade': '1', 'o3Value': '0.020'}, {'so2Grade': '1', 'coFlag': None, 'khaiValue': '30', 'so2Value': '0.003', 'coValue': '0.2', 'pm25Flag': None, 'pm10Flag': None, 'o3Grade': '1', 'pm10Value': '11', 'khaiGrade': '1', 'pm25Value': '7', 'sidoName': '서울', 'no2Flag': None, 'no2Grade': '1', 'o3Flag': None, 'pm25Grade': '1', 'so2Flag': None, 'dataTime': '2025-09-19 15:00', 'coGrade': '1', 'no2Value': '0.015', 'stationName': '성북구', 'pm10Grade': '1', 'o3Value': '0.018'}, {'so2Grade': '1', 'coFlag': None, 'khaiValue': '-', 'so2Value': '0.002', 'coValue': '0.4', 'pm25Flag': None, 'pm10Flag': None, 'o3Grade': '1', 'pm10Value': '16', 'khaiGrade': None, 'pm25Value': '3', 'sidoName': '서울', 'no2Flag': None, 'no2Grade': '1', 'o3Flag': None, 'pm25Grade': None, 'so2Flag': None, 'dataTime': '2025-09-19 15:00', 'coGrade': '1', 'no2Value': '0.024', 'stationName': '정릉로', 'pm10Grade': '1', 'o3Value': '0.015'}, {'so2Grade': '1', 'coFlag': None, 'khaiValue': '33', 'so2Value': '0.003', 'coValue': '0.2', 'pm25Flag': None, 'pm10Flag': None, 'o3Grade': '1', 'pm10Value': '13', 'khaiGrade': '1', 'pm25Value': '4', 'sidoName': '서울', 'no2Flag': None, 'no2Grade': '1', 'o3Flag': None, 'pm25Grade': '1', 'so2Flag': None, 'dataTime': '2025-09-19 15:00', 'coGrade': '1', 'no2Value': '0.007', 'stationName': '도봉구', 'pm10Grade': '1', 'o3Value': '0.020'}, {'so2Grade': '1', 'coFlag': None, 'khaiValue': '39', 'so2Value': '0.002', 'coValue': '0.3', 'pm25Flag': None, 'pm10Flag': None, 'o3Grade': '1', 'pm10Value': '12', 'khaiGrade': '1', 'pm25Value': '3', 'sidoName': '서울', 'no2Flag': None, 'no2Grade': '1', 'o3Flag': None, 'pm25Grade': '1', 'so2Flag': None, 'dataTime': '2025-09-19 15:00', 'coGrade': '1', 'no2Value': '0.008', 'stationName': '은평구', 'pm10Grade': '1', 'o3Value': '0.023'}, {'so2Grade': '1', 'coFlag': None, 'khaiValue': '43', 'so2Value': '0.003', 'coValue': '0.4', 'pm25Flag': None, 'pm10Flag': None, 'o3Grade': '1', 'pm10Value': '6', 'khaiGrade': '1', 'pm25Value': '6', 'sidoName': '서울', 'no2Flag': None, 'no2Grade': '1', 'o3Flag': None, 'pm25Grade': '1', 'so2Flag': None, 'dataTime': '2025-09-19 15:00', 'coGrade': '1', 'no2Value': '0.008', 'stationName': '서대문구', 'pm10Grade': '1', 'o3Value': '0.026'}, {'so2Grade': '1', 'coFlag': None, 'khaiValue': '38', 'so2Value': '0.002', 'coValue': '0.3', 'pm25Flag': None, 'pm10Flag': None, 'o3Grade': '1', 'pm10Value': '17', 'khaiGrade': '1', 'pm25Value': '7', 'sidoName': '서울', 'no2Flag': None, 'no2Grade': '1', 'o3Flag': None, 'pm25Grade': '1', 'so2Flag': None, 'dataTime': '2025-09-19 15:00', 'coGrade': '1', 'no2Value': '0.016', 'stationName': '마포구', 'pm10Grade': '1', 'o3Value': '0.023'}, {'so2Grade': '1', 'coFlag': None, 'khaiValue': '38', 'so2Value': '0.002', 'coValue': '0.4', 'pm25Flag': None, 'pm10Flag': None, 'o3Grade': '1', 'pm10Value': '20', 'khaiGrade': '1', 'pm25Value': '7', 'sidoName': '서울', 'no2Flag': None, 'no2Grade': '1', 'o3Flag': None, 'pm25Grade': '1', 'so2Flag': None, 'dataTime': '2025-09-19 15:00', 'coGrade': '1', 'no2Value': '0.014', 'stationName': '신촌로', 'pm10Grade': '1', 'o3Value': '0.023'}, {'so2Grade': '1', 'coFlag': None, 'khaiValue': '33', 'so2Value': '0.002', 'coValue': '0.4', 'pm25Flag': None, 'pm10Flag': None, 'o3Grade': '1', 'pm10Value': '15', 'khaiGrade': '1', 'pm25Value': '4', 'sidoName': '서울', 'no2Flag': None, 'no2Grade': '1', 'o3Flag': None, 'pm25Grade': '1', 'so2Flag': None, 'dataTime': '2025-09-19 15:00', 'coGrade': '1', 'no2Value': '0.018', 'stationName': '강서구', 'pm10Grade': '1', 'o3Value': '0.020'}, {'so2Grade': '1', 'coFlag': None, 'khaiValue': '36', 'so2Value': '0.002', 'coValue': '0.5', 'pm25Flag': None, 'pm10Flag': None, 'o3Grade': '1', 'pm10Value': '12', 'khaiGrade': '1', 'pm25Value': '6', 'sidoName': '서울', 'no2Flag': None, 'no2Grade': '1', 'o3Flag': None, 'pm25Grade': '1', 'so2Flag': None, 'dataTime': '2025-09-19 15:00', 'coGrade': '1', 'no2Value': '0.022', 'stationName': '공항대로', 'pm10Grade': '1', 'o3Value': '0.018'}, {'so2Grade': '1', 'coFlag': None, 'khaiValue': '37', 'so2Value': '0.002', 'coValue': '0.3', 'pm25Flag': None, 'pm10Flag': None, 'o3Grade': '1', 'pm10Value': '18', 'khaiGrade': '1', 'pm25Value': '6', 'sidoName': '서울', 'no2Flag': None, 'no2Grade': '1', 'o3Flag': None, 'pm25Grade': '1', 'so2Flag': None, 'dataTime': '2025-09-19 15:00', 'coGrade': '1', 'no2Value': '0.013', 'stationName': '구로구', 'pm10Grade': '1', 'o3Value': '0.022'}, {'so2Grade': '1', 'coFlag': None, 'khaiValue': '31', 'so2Value': '0.002', 'coValue': '0.3', 'pm25Flag': None, 'pm10Flag': None, 'o3Grade': '1', 'pm10Value': '17', 'khaiGrade': '1', 'pm25Value': '6', 'sidoName': '서울', 'no2Flag': None, 'no2Grade': '1', 'o3Flag': None, 'pm25Grade': '1', 'so2Flag': None, 'dataTime': '2025-09-19 15:00', 'coGrade': '1', 'no2Value': '0.019', 'stationName': '영등포구', 'pm10Grade': '1', 'o3Value': '0.019'}, {'so2Grade': '1', 'coFlag': None, 'khaiValue': '36', 'so2Value': '0.002', 'coValue': '0.4', 'pm25Flag': None, 'pm10Flag': None, 'o3Grade': '1', 'pm10Value': '17', 'khaiGrade': '1', 'pm25Value': '5', 'sidoName': '서울', 'no2Flag': None, 'no2Grade': '1', 'o3Flag': None, 'pm25Grade': '1', 'so2Flag': None, 'dataTime': '2025-09-19 15:00', 'coGrade': '1', 'no2Value': '0.022', 'stationName': '영등포로', 'pm10Grade': '1', 'o3Value': '0.016'}, {'so2Grade': '1', 'coFlag': None, 'khaiValue': '34', 'so2Value': '0.002', 'coValue': '0.3', 'pm25Flag': None, 'pm10Flag': None, 'o3Grade': '1', 'pm10Value': '18', 'khaiGrade': '1', 'pm25Value': '10', 'sidoName': '서울', 'no2Flag': None, 'no2Grade': '1', 'o3Flag': None, 'pm25Grade': '1', 'so2Flag': None, 'dataTime': '2025-09-19 15:00', 'coGrade': '1', 'no2Value': '0.015', 'stationName': '동작구', 'pm10Grade': '1', 'o3Value': '0.021'}, {'so2Grade': None, 'coFlag': '통신장애', 'khaiValue': '-', 'so2Value': '-', 'coValue': '-', 'pm25Flag': '통신장애', 'pm10Flag': '통신장애', 'o3Grade': None, 'pm10Value': '-', 'khaiGrade': None, 'pm25Value': '-', 'sidoName': '서울', 'no2Flag': '통신장애', 'no2Grade': None, 'o3Flag': '통신장애', 'pm25Grade': None, 'so2Flag': '통신장애', 'dataTime': '2025-09-19 15:00', 'coGrade': None, 'no2Value': '-', 'stationName': '동작대로 중앙차로', 'pm10Grade': None, 'o3Value': '-'}, {'so2Grade': '1', 'coFlag': None, 'khaiValue': '37', 'so2Value': '0.002', 'coValue': '0.3', 'pm25Flag': None, 'pm10Flag': None, 'o3Grade': '1', 'pm10Value': '15', 'khaiGrade': '1', 'pm25Value': '8', 'sidoName': '서울', 'no2Flag': None, 'no2Grade': '1', 'o3Flag': None, 'pm25Grade': '1', 'so2Flag': None, 'dataTime': '2025-09-19 15:00', 'coGrade': '1', 'no2Value': '0.013', 'stationName': '관악구', 'pm10Grade': '1', 'o3Value': '0.022'}, {'so2Grade': '1', 'coFlag': None, 'khaiValue': '29', 'so2Value': '0.002', 'coValue': '0.3', 'pm25Flag': None, 'pm10Flag': None, 'o3Grade': '1', 'pm10Value': '13', 'khaiGrade': '1', 'pm25Value': '7', 'sidoName': '서울', 'no2Flag': None, 'no2Grade': '1', 'o3Flag': None, 'pm25Grade': '1', 'so2Flag': None, 'dataTime': '2025-09-19 15:00', 'coGrade': '1', 'no2Value': '0.016', 'stationName': '강남구', 'pm10Grade': '1', 'o3Value': '0.017'}, {'so2Grade': '1', 'coFlag': None, 'khaiValue': '36', 'so2Value': '0.002', 'coValue': '0.2', 'pm25Flag': None, 'pm10Flag': None, 'o3Grade': '1', 'pm10Value': '10', 'khaiGrade': '1', 'pm25Value': '5', 'sidoName': '서울', 'no2Flag': None, 'no2Grade': '1', 'o3Flag': None, 'pm25Grade': '1', 'so2Flag': None, 'dataTime': '2025-09-19 15:00', 'coGrade': '1', 'no2Value': '0.015', 'stationName': '서초구', 'pm10Grade': '1', 'o3Value': '0.021'}, {'so2Grade': '1', 'coFlag': None, 'khaiValue': '32', 'so2Value': '0.003', 'coValue': '0.4', 'pm25Flag': None, 'pm10Flag': None, 'o3Grade': '1', 'pm10Value': '18', 'khaiGrade': '1', 'pm25Value': '3', 'sidoName': '서울', 'no2Flag': None, 'no2Grade': '1', 'o3Flag': None, 'pm25Grade': '1', 'so2Flag': None, 'dataTime': '2025-09-19 15:00', 'coGrade': '1', 'no2Value': '0.018', 'stationName': '도산대로', 'pm10Grade': '1', 'o3Value': '0.019'}, {'so2Grade': '1', 'coFlag': None, 'khaiValue': '41', 'so2Value': '0.003', 'coValue': '0.7', 'pm25Flag': None, 'pm10Flag': None, 'o3Grade': '1', 'pm10Value': '8', 'khaiGrade': '1', 'pm25Value': '4', 'sidoName': '서울', 'no2Flag': None, 'no2Grade': '1', 'o3Flag': None, 'pm25Grade': '1', 'so2Flag': None, 'dataTime': '2025-09-19 15:00', 'coGrade': '1', 'no2Value': '0.024', 'stationName': '강남대로', 'pm10Grade': '1', 'o3Value': '0.012'}, {'so2Grade': '1', 'coFlag': None, 'khaiValue': '35', 'so2Value': '0.002', 'coValue': '0.3', 'pm25Flag': None, 'pm10Flag': None, 'o3Grade': '1', 'pm10Value': '14', 'khaiGrade': '1', 'pm25Value': '5', 'sidoName': '서울', 'no2Flag': None, 'no2Grade': '1', 'o3Flag': None, 'pm25Grade': '1', 'so2Flag': None, 'dataTime': '2025-09-19 15:00', 'coGrade': '1', 'no2Value': '0.015', 'stationName': '송파구', 'pm10Grade': '1', 'o3Value': '0.021'}, {'so2Grade': '1', 'coFlag': None, 'khaiValue': '39', 'so2Value': '0.002', 'coValue': '0.6', 'pm25Flag': None, 'pm10Flag': None, 'o3Grade': '1', 'pm10Value': '13', 'khaiGrade': '1', 'pm25Value': '1', 'sidoName': '서울', 'no2Flag': None, 'no2Grade': '1', 'o3Flag': None, 'pm25Grade': '1', 'so2Flag': None, 'dataTime': '2025-09-19 15:00', 'coGrade': '1', 'no2Value': '0.007', 'stationName': '강동구', 'pm10Grade': '1', 'o3Value': '0.023'}, {'so2Grade': '1', 'coFlag': None, 'khaiValue': '-', 'so2Value': '0.002', 'coValue': '0.4', 'pm25Flag': None, 'pm10Flag': None, 'o3Grade': '1', 'pm10Value': '15', 'khaiGrade': None, 'pm25Value': '5', 'sidoName': '서울', 'no2Flag': None, 'no2Grade': '1', 'o3Flag': None, 'pm25Grade': None, 'so2Flag': None, 'dataTime': '2025-09-19 15:00', 'coGrade': '1', 'no2Value': '0.019', 'stationName': '천호대로', 'pm10Grade': '1', 'o3Value': '0.015'}, {'so2Grade': '1', 'coFlag': None, 'khaiValue': '45', 'so2Value': '0.002', 'coValue': '0.2', 'pm25Flag': None, 'pm10Flag': None, 'o3Grade': '1', 'pm10Value': '13', 'khaiGrade': '1', 'pm25Value': '5', 'sidoName': '서울', 'no2Flag': None, 'no2Grade': '1', 'o3Flag': None, 'pm25Grade': '1', 'so2Flag': None, 'dataTime': '2025-09-19 15:00', 'coGrade': '1', 'no2Value': '0.010', 'stationName': '금천구', 'pm10Grade': '1', 'o3Value': '0.027'}, {'so2Grade': '1', 'coFlag': None, 'khaiValue': '56', 'so2Value': '0.003', 'coValue': '0.5', 'pm25Flag': None, 'pm10Flag': None, 'o3Grade': '1', 'pm10Value': '27', 'khaiGrade': '2', 'pm25Value': '6', 'sidoName': '서울', 'no2Flag': None, 'no2Grade': '2', 'o3Flag': None, 'pm25Grade': '1', 'so2Flag': None, 'dataTime': '2025-09-19 15:00', 'coGrade': '1', 'no2Value': '0.033', 'stationName': '시흥대로', 'pm10Grade': '1', 'o3Value': '0.007'}, {'so2Grade': '1', 'coFlag': None, 'khaiValue': '44', 'so2Value': '0.002', 'coValue': '0.2', 'pm25Flag': None, 'pm10Flag': None, 'o3Grade': '1', 'pm10Value': '12', 'khaiGrade': '1', 'pm25Value': '4', 'sidoName': '서울', 'no2Flag': None, 'no2Grade': '1', 'o3Flag': None, 'pm25Grade': '1', 'so2Flag': None, 'dataTime': '2025-09-19 15:00', 'coGrade': '1', 'no2Value': '0.008', 'stationName': '강북구', 'pm10Grade': '1', 'o3Value': '0.026'}, {'so2Grade': '1', 'coFlag': None, 'khaiValue': '36', 'so2Value': '0.002', 'coValue': '0.3', 'pm25Flag': None, 'pm10Flag': None, 'o3Grade': '1', 'pm10Value': '18', 'khaiGrade': '1', 'pm25Value': '5', 'sidoName': '서울', 'no2Flag': None, 'no2Grade': '1', 'o3Flag': None, 'pm25Grade': '1', 'so2Flag': None, 'dataTime': '2025-09-19 15:00', 'coGrade': '1', 'no2Value': '0.018', 'stationName': '양천구', 'pm10Grade': '1', 'o3Value': '0.022'}, {'so2Grade': '1', 'coFlag': None, 'khaiValue': '43', 'so2Value': '0.002', 'coValue': '0.2', 'pm25Flag': None, 'pm10Flag': None, 'o3Grade': '1', 'pm10Value': '10', 'khaiGrade': '1', 'pm25Value': '4', 'sidoName': '서울', 'no2Flag': None, 'no2Grade': '1', 'o3Flag': None, 'pm25Grade': '1', 'so2Flag': None, 'dataTime': '2025-09-19 15:00', 'coGrade': '1', 'no2Value': '0.009', 'stationName': '노원구', 'pm10Grade': '1', 'o3Value': '0.026'}, {'so2Grade': '1', 'coFlag': None, 'khaiValue': '44', 'so2Value': '0.002', 'coValue': '0.4', 'pm25Flag': None, 'pm10Flag': None, 'o3Grade': '1', 'pm10Value': '13', 'khaiGrade': '1', 'pm25Value': '3', 'sidoName': '서울', 'no2Flag': None, 'no2Grade': '1', 'o3Flag': None, 'pm25Grade': '1', 'so2Flag': None, 'dataTime': '2025-09-19 15:00', 'coGrade': '1', 'no2Value': '0.027', 'stationName': '화랑로', 'pm10Grade': '1', 'o3Value': '0.013'}], 'pageNo': 1, 'numOfRows': 100}, 'header': {'resultMsg': 'NORMAL_CODE', 'resultCode': '00'}}}\n"
          ]
        }
      ]
    },
    {
      "cell_type": "markdown",
      "source": [
        "## 데이터 프레임 생성"
      ],
      "metadata": {
        "id": "d6mT4IxkySzI"
      }
    },
    {
      "cell_type": "code",
      "source": [
        "import pandas as pd\n",
        "\n",
        "## requests로부터 response, body, item 항목 읽기\n",
        "data = response.json()['response']['body']['items']\n",
        "df = pd.DataFrame(data)\n",
        "df['pm25Grade']"
      ],
      "metadata": {
        "id": "HOOo9qTsXLkB",
        "outputId": "97cc77c0-eeb3-464b-d5ed-9a465a7160d4",
        "colab": {
          "base_uri": "https://localhost:8080/",
          "height": 1000
        }
      },
      "execution_count": 35,
      "outputs": [
        {
          "output_type": "execute_result",
          "data": {
            "text/plain": [
              "0        1\n",
              "1        1\n",
              "2        1\n",
              "3        1\n",
              "4     None\n",
              "5        1\n",
              "6        1\n",
              "7        1\n",
              "8        1\n",
              "9        1\n",
              "10       1\n",
              "11       1\n",
              "12       1\n",
              "13    None\n",
              "14       1\n",
              "15       1\n",
              "16       1\n",
              "17       1\n",
              "18       1\n",
              "19       1\n",
              "20       1\n",
              "21       1\n",
              "22       1\n",
              "23       1\n",
              "24       1\n",
              "25    None\n",
              "26       1\n",
              "27       1\n",
              "28       1\n",
              "29       1\n",
              "30       1\n",
              "31       1\n",
              "32       1\n",
              "33    None\n",
              "34       1\n",
              "35       1\n",
              "36       1\n",
              "37       1\n",
              "38       1\n",
              "39       1\n",
              "Name: pm25Grade, dtype: object"
            ],
            "text/html": [
              "<div>\n",
              "<style scoped>\n",
              "    .dataframe tbody tr th:only-of-type {\n",
              "        vertical-align: middle;\n",
              "    }\n",
              "\n",
              "    .dataframe tbody tr th {\n",
              "        vertical-align: top;\n",
              "    }\n",
              "\n",
              "    .dataframe thead th {\n",
              "        text-align: right;\n",
              "    }\n",
              "</style>\n",
              "<table border=\"1\" class=\"dataframe\">\n",
              "  <thead>\n",
              "    <tr style=\"text-align: right;\">\n",
              "      <th></th>\n",
              "      <th>pm25Grade</th>\n",
              "    </tr>\n",
              "  </thead>\n",
              "  <tbody>\n",
              "    <tr>\n",
              "      <th>0</th>\n",
              "      <td>1</td>\n",
              "    </tr>\n",
              "    <tr>\n",
              "      <th>1</th>\n",
              "      <td>1</td>\n",
              "    </tr>\n",
              "    <tr>\n",
              "      <th>2</th>\n",
              "      <td>1</td>\n",
              "    </tr>\n",
              "    <tr>\n",
              "      <th>3</th>\n",
              "      <td>1</td>\n",
              "    </tr>\n",
              "    <tr>\n",
              "      <th>4</th>\n",
              "      <td>None</td>\n",
              "    </tr>\n",
              "    <tr>\n",
              "      <th>5</th>\n",
              "      <td>1</td>\n",
              "    </tr>\n",
              "    <tr>\n",
              "      <th>6</th>\n",
              "      <td>1</td>\n",
              "    </tr>\n",
              "    <tr>\n",
              "      <th>7</th>\n",
              "      <td>1</td>\n",
              "    </tr>\n",
              "    <tr>\n",
              "      <th>8</th>\n",
              "      <td>1</td>\n",
              "    </tr>\n",
              "    <tr>\n",
              "      <th>9</th>\n",
              "      <td>1</td>\n",
              "    </tr>\n",
              "    <tr>\n",
              "      <th>10</th>\n",
              "      <td>1</td>\n",
              "    </tr>\n",
              "    <tr>\n",
              "      <th>11</th>\n",
              "      <td>1</td>\n",
              "    </tr>\n",
              "    <tr>\n",
              "      <th>12</th>\n",
              "      <td>1</td>\n",
              "    </tr>\n",
              "    <tr>\n",
              "      <th>13</th>\n",
              "      <td>None</td>\n",
              "    </tr>\n",
              "    <tr>\n",
              "      <th>14</th>\n",
              "      <td>1</td>\n",
              "    </tr>\n",
              "    <tr>\n",
              "      <th>15</th>\n",
              "      <td>1</td>\n",
              "    </tr>\n",
              "    <tr>\n",
              "      <th>16</th>\n",
              "      <td>1</td>\n",
              "    </tr>\n",
              "    <tr>\n",
              "      <th>17</th>\n",
              "      <td>1</td>\n",
              "    </tr>\n",
              "    <tr>\n",
              "      <th>18</th>\n",
              "      <td>1</td>\n",
              "    </tr>\n",
              "    <tr>\n",
              "      <th>19</th>\n",
              "      <td>1</td>\n",
              "    </tr>\n",
              "    <tr>\n",
              "      <th>20</th>\n",
              "      <td>1</td>\n",
              "    </tr>\n",
              "    <tr>\n",
              "      <th>21</th>\n",
              "      <td>1</td>\n",
              "    </tr>\n",
              "    <tr>\n",
              "      <th>22</th>\n",
              "      <td>1</td>\n",
              "    </tr>\n",
              "    <tr>\n",
              "      <th>23</th>\n",
              "      <td>1</td>\n",
              "    </tr>\n",
              "    <tr>\n",
              "      <th>24</th>\n",
              "      <td>1</td>\n",
              "    </tr>\n",
              "    <tr>\n",
              "      <th>25</th>\n",
              "      <td>None</td>\n",
              "    </tr>\n",
              "    <tr>\n",
              "      <th>26</th>\n",
              "      <td>1</td>\n",
              "    </tr>\n",
              "    <tr>\n",
              "      <th>27</th>\n",
              "      <td>1</td>\n",
              "    </tr>\n",
              "    <tr>\n",
              "      <th>28</th>\n",
              "      <td>1</td>\n",
              "    </tr>\n",
              "    <tr>\n",
              "      <th>29</th>\n",
              "      <td>1</td>\n",
              "    </tr>\n",
              "    <tr>\n",
              "      <th>30</th>\n",
              "      <td>1</td>\n",
              "    </tr>\n",
              "    <tr>\n",
              "      <th>31</th>\n",
              "      <td>1</td>\n",
              "    </tr>\n",
              "    <tr>\n",
              "      <th>32</th>\n",
              "      <td>1</td>\n",
              "    </tr>\n",
              "    <tr>\n",
              "      <th>33</th>\n",
              "      <td>None</td>\n",
              "    </tr>\n",
              "    <tr>\n",
              "      <th>34</th>\n",
              "      <td>1</td>\n",
              "    </tr>\n",
              "    <tr>\n",
              "      <th>35</th>\n",
              "      <td>1</td>\n",
              "    </tr>\n",
              "    <tr>\n",
              "      <th>36</th>\n",
              "      <td>1</td>\n",
              "    </tr>\n",
              "    <tr>\n",
              "      <th>37</th>\n",
              "      <td>1</td>\n",
              "    </tr>\n",
              "    <tr>\n",
              "      <th>38</th>\n",
              "      <td>1</td>\n",
              "    </tr>\n",
              "    <tr>\n",
              "      <th>39</th>\n",
              "      <td>1</td>\n",
              "    </tr>\n",
              "  </tbody>\n",
              "</table>\n",
              "</div><br><label><b>dtype:</b> object</label>"
            ]
          },
          "metadata": {},
          "execution_count": 35
        }
      ]
    },
    {
      "cell_type": "markdown",
      "source": [
        "## 다양항 형식으로 데이터 저장\n"
      ],
      "metadata": {
        "id": "vVG0HYb0ymeM"
      }
    },
    {
      "cell_type": "code",
      "source": [
        "df.to_csv('air_pollution.csv', index=False, encoding='utf-8')\n",
        "\n",
        "## JSON 형식 데이터 저장\n",
        "df.to_json('air_pollution.json', indent=4, force_ascii=False)\n",
        "## EXCEL 형식 데이터 저장\n",
        "df.to_excel('air_pollution.xlsx', index=False)\n",
        "## HTML 형식 데이터 저장\n",
        "df.to_html('air_pollution.html')"
      ],
      "metadata": {
        "id": "HW1ZodpgXNhG"
      },
      "execution_count": 36,
      "outputs": []
    }
  ]
}